{
 "cells": [
  {
   "cell_type": "markdown",
   "id": "623a5ddb",
   "metadata": {},
   "source": [
    "#                                                AI LAB-1"
   ]
  },
  {
   "cell_type": "markdown",
   "id": "f50a75ff",
   "metadata": {},
   "source": [
    "# Name: Omnarayan Yadav \n"
   ]
  },
  {
   "cell_type": "markdown",
   "id": "e417c596",
   "metadata": {},
   "source": [
    "# Roll.No= PUR077BEI042"
   ]
  },
  {
   "cell_type": "markdown",
   "id": "9eb10f71",
   "metadata": {},
   "source": [
    "# WAP to check if an input number is odd or even"
   ]
  },
  {
   "cell_type": "code",
   "execution_count": 3,
   "id": "ff324152",
   "metadata": {},
   "outputs": [
    {
     "name": "stdout",
     "output_type": "stream",
     "text": [
      "Enter a number: 5\n",
      "The number is:  ODD\n"
     ]
    }
   ],
   "source": [
    "def number(num):\n",
    "     if num%2==0:\n",
    "         return \"EVEN\"\n",
    "     else:\n",
    "         return \"ODD\"\n",
    "num=int(input(\"Enter a number: \"))\n",
    "print(\"The number is: \",number(num))\n"
   ]
  },
  {
   "cell_type": "markdown",
   "id": "ae69c09e",
   "metadata": {},
   "source": [
    "# WAP to input the percentage and display the division"
   ]
  },
  {
   "cell_type": "code",
   "execution_count": 8,
   "id": "bd3e1695",
   "metadata": {},
   "outputs": [
    {
     "name": "stdout",
     "output_type": "stream",
     "text": [
      "Enter the percentage:65.76\n",
      "First Division\n"
     ]
    }
   ],
   "source": [
    "percentage=float(input(\"Enter the percentage:\"))\n",
    "if percentage>=80:\n",
    "    print(\"Distinction\")\n",
    "elif percentage>=65:\n",
    "    print(\"First Division\")\n",
    "elif percentage>=55:\n",
    "    print(\"second Division\")\n",
    "elif percentage>=40:\n",
    "    print(\"Third Division\")\n",
    "else:\n",
    "    print(\"Fail\")"
   ]
  },
  {
   "cell_type": "markdown",
   "id": "88cc31ab",
   "metadata": {},
   "source": [
    "# WAP to calculate sum, diff, product and quotient between two input numbers using a single function.\n"
   ]
  },
  {
   "cell_type": "code",
   "execution_count": 44,
   "id": "856f18af",
   "metadata": {},
   "outputs": [
    {
     "name": "stdout",
     "output_type": "stream",
     "text": [
      "Enter the first number: 10\n",
      "Enter the second number: 5\n",
      "addition=  15.0\n",
      "diff=  5.0\n",
      "Product=  50.0\n",
      "Quotient=  2.0\n"
     ]
    }
   ],
   "source": [
    "def arithmetic(x,y):\n",
    "    add=x+y\n",
    "    diff=x-y\n",
    "    product=x*y\n",
    "    if y==0:\n",
    "        quotient=\"Undefined\"\n",
    "    else:\n",
    "        quotient=x/y\n",
    "    return add,diff,product,quotient\n",
    "x=float(input(\"Enter the first number: \"))\n",
    "y=float(input(\"Enter the second number: \"))\n",
    "print(\"addition= \",sum)\n",
    "print(\"diff= \",diff)\n",
    "print(\"Product= \",product)\n",
    "print(\"Quotient= \",quotient)"
   ]
  },
  {
   "cell_type": "markdown",
   "id": "6544466b",
   "metadata": {},
   "source": [
    "# WAP to display prime numbers from 1 to 100"
   ]
  },
  {
   "cell_type": "code",
   "execution_count": 19,
   "id": "b150108c",
   "metadata": {},
   "outputs": [
    {
     "name": "stdout",
     "output_type": "stream",
     "text": [
      "2\n",
      "3\n",
      "5\n",
      "7\n",
      "11\n",
      "13\n",
      "17\n",
      "19\n",
      "23\n",
      "29\n",
      "31\n",
      "37\n",
      "41\n",
      "43\n",
      "47\n",
      "53\n",
      "59\n",
      "61\n",
      "67\n",
      "71\n",
      "73\n",
      "79\n",
      "83\n",
      "89\n",
      "97\n"
     ]
    }
   ],
   "source": [
    "for i in range(1,101):\n",
    "    is_prime=True\n",
    "    if i<2:\n",
    "        is_prime=False\n",
    "    else:\n",
    "        for j in range(2,i):\n",
    "            if i%j==0:\n",
    "                is_prime=False\n",
    "                break\n",
    "    if is_prime:\n",
    "        print(i)\n",
    "    \n"
   ]
  },
  {
   "cell_type": "markdown",
   "id": "36e1bcae",
   "metadata": {},
   "source": [
    "# WAP to enter the marks of 10 students and display it"
   ]
  },
  {
   "cell_type": "code",
   "execution_count": 11,
   "id": "c3e546ea",
   "metadata": {},
   "outputs": [
    {
     "name": "stdout",
     "output_type": "stream",
     "text": [
      "Enter name of student 1: Om\n",
      "Enter marks for Om: 99\n",
      "Enter name of student 2: Ankit\n",
      "Enter marks for Ankit: 77\n",
      "Enter name of student 3: Rajan\n",
      "Enter marks for Rajan: 78\n",
      "Enter name of student 4: pawan\n",
      "Enter marks for pawan: 98\n",
      "Enter name of student 5: Rahul\n",
      "Enter marks for Rahul: 88\n",
      "Enter name of student 6: Anu\n",
      "Enter marks for Anu: 55\n",
      "Enter name of student 7: Raj\n",
      "Enter marks for Raj: 87\n",
      "Enter name of student 8: Ram\n",
      "Enter marks for Ram: 75\n",
      "Enter name of student 9: Sita\n",
      "Enter marks for Sita: 67\n",
      "Enter name of student 10: Hari\n",
      "Enter marks for Hari: 56\n",
      "\n",
      "Entered data for 10 students:\n",
      "Student 1: Name: Om, Marks: 99.0\n",
      "Student 2: Name: Ankit, Marks: 77.0\n",
      "Student 3: Name: Rajan, Marks: 78.0\n",
      "Student 4: Name: pawan, Marks: 98.0\n",
      "Student 5: Name: Rahul, Marks: 88.0\n",
      "Student 6: Name: Anu, Marks: 55.0\n",
      "Student 7: Name: Raj, Marks: 87.0\n",
      "Student 8: Name: Ram, Marks: 75.0\n",
      "Student 9: Name: Sita, Marks: 67.0\n",
      "Student 10: Name: Hari, Marks: 56.0\n"
     ]
    }
   ],
   "source": [
    "\n",
    "def data():\n",
    "    student_data = []\n",
    "    #name and marks of 10 students.\n",
    "    for i in range(1, 11):\n",
    "        names = input(f\"Enter name of student {i}: \")\n",
    "        marks = float(input(f\"Enter marks for {names}: \"))\n",
    "        student_data.append((names, marks))\n",
    "    \n",
    "    # Display the entered data\n",
    "    print(\"\\nEntered data for 10 students:\")\n",
    "    for i, (names, marks) in enumerate(student_data, start=1):\n",
    "        print(f\"Student {i}: Name: {names}, Marks: {marks}\")\n",
    "\n",
    "if __name__ == \"__main__\":\n",
    "    data()"
   ]
  },
  {
   "cell_type": "markdown",
   "id": "3af307ac",
   "metadata": {},
   "source": [
    "# WAP to calculate the factorial of an input number.\n"
   ]
  },
  {
   "cell_type": "code",
   "execution_count": 21,
   "id": "01683d90",
   "metadata": {},
   "outputs": [
    {
     "name": "stdout",
     "output_type": "stream",
     "text": [
      "Enter the number: 5\n",
      "Factorial is:  120\n"
     ]
    }
   ],
   "source": [
    "n=int(input(\"Enter the number: \"))\n",
    "fact=1\n",
    "i=1\n",
    "while i<=n:\n",
    "    fact*=i\n",
    "    i+=1\n",
    "    \n",
    "print(\"Factorial is: \",fact)"
   ]
  },
  {
   "cell_type": "markdown",
   "id": "dca60688",
   "metadata": {},
   "source": [
    "# WAP to ask for a sentence and count the number of words."
   ]
  },
  {
   "cell_type": "code",
   "execution_count": 22,
   "id": "c4373b55",
   "metadata": {},
   "outputs": [
    {
     "name": "stdout",
     "output_type": "stream",
     "text": [
      "Enter a sentence: Thala for a reason\n",
      "The number of words in the sentence is: 4\n"
     ]
    }
   ],
   "source": [
    "sentence=input(\"Enter a sentence: \")\n",
    "words=sentence.split()\n",
    "count=len(words)\n",
    "print(\"The number of words in the sentence is:\",count)"
   ]
  },
  {
   "cell_type": "markdown",
   "id": "f1ba0e35",
   "metadata": {},
   "source": [
    "# WAP to sort the list {5, 4, 11, 13, 51}"
   ]
  },
  {
   "cell_type": "code",
   "execution_count": 19,
   "id": "d535f3dd",
   "metadata": {},
   "outputs": [
    {
     "name": "stdout",
     "output_type": "stream",
     "text": [
      "Sorted list: [4, 5, 11, 13, 51]\n"
     ]
    }
   ],
   "source": [
    "def sort_list(list):\n",
    "    list.sort()\n",
    "    return list\n",
    "\n",
    "list1 = [5, 4, 11, 13, 51]\n",
    "\n",
    "sorted_list = sort_list(list1)\n",
    "print(\"Sorted list:\", sorted_list)"
   ]
  },
  {
   "cell_type": "markdown",
   "id": "d5f87df3",
   "metadata": {},
   "source": [
    "# WAP program to sum all the items in a list."
   ]
  },
  {
   "cell_type": "code",
   "execution_count": 18,
   "id": "8f348830",
   "metadata": {},
   "outputs": [
    {
     "name": "stdout",
     "output_type": "stream",
     "text": [
      "Sum of all items in the listA is:  749\n"
     ]
    }
   ],
   "source": [
    "def sum_list(list):\n",
    "    total = 0\n",
    "    for item in list:\n",
    "        total += item\n",
    "    return total\n",
    "\n",
    "listA = [5, 4, 11, 13, 51,67,98,500]\n",
    "\n",
    "list_sum = sum_list(listA)\n",
    "\n",
    "print(\"Sum of all items in the listA is: \", list_sum)\n"
   ]
  },
  {
   "cell_type": "markdown",
   "id": "a180f401",
   "metadata": {},
   "source": [
    "# WAP program to get the largest number from a list."
   ]
  },
  {
   "cell_type": "code",
   "execution_count": 7,
   "id": "1698db58",
   "metadata": {},
   "outputs": [
    {
     "name": "stdout",
     "output_type": "stream",
     "text": [
      "Largest number in the list is:  988\n"
     ]
    }
   ],
   "source": [
    "my_list=[11,450,988,76,33,95,120,488,677,577,905,710,880]\n",
    "largest=max(my_list)\n",
    "print(\"Largest number in the list is: \",largest)"
   ]
  },
  {
   "cell_type": "markdown",
   "id": "8234ee9b",
   "metadata": {},
   "source": [
    "# WAP to ask for a sentence and calculate the frequency of characters in the sentences."
   ]
  },
  {
   "cell_type": "code",
   "execution_count": 22,
   "id": "0e29a1bb",
   "metadata": {
    "scrolled": true
   },
   "outputs": [
    {
     "name": "stdout",
     "output_type": "stream",
     "text": [
      "Enter a sentence: Biratnagar is the capital city of koshi province \n",
      "Frequency of characters: \n",
      "  : 8\n",
      "g : 1\n",
      "c : 3\n",
      "r : 3\n",
      "e : 2\n",
      "t : 4\n",
      "k : 1\n",
      "n : 2\n",
      "B : 1\n",
      "o : 3\n",
      "v : 1\n",
      "l : 1\n",
      "a : 5\n",
      "h : 2\n",
      "y : 1\n",
      "i : 6\n",
      "s : 2\n",
      "f : 1\n",
      "p : 2\n"
     ]
    }
   ],
   "source": [
    "sentence=input(\"Enter a sentence: \")\n",
    "frequency={}\n",
    "for char in set(sentence):\n",
    "    count=sentence.count(char)\n",
    "    frequency[char]=count\n",
    "print(\"Frequency of characters: \")\n",
    "for char,count in frequency.items():\n",
    "    print(char,\":\",count)\n"
   ]
  },
  {
   "cell_type": "markdown",
   "id": "df2c02ca",
   "metadata": {},
   "source": [
    "# WAP to find the sum of all items in a dictionary"
   ]
  },
  {
   "cell_type": "code",
   "execution_count": 23,
   "id": "652abf20",
   "metadata": {},
   "outputs": [
    {
     "name": "stdout",
     "output_type": "stream",
     "text": [
      "Input1: {'a': 100, 'b': 200, 'c': 300}\n",
      "output1: 600\n",
      "Input2: {'x': 25, 'y': 18, 'z': 45}\n",
      "Output2: 88\n"
     ]
    }
   ],
   "source": [
    "def sum_dict(dict):\n",
    "    total_sum=sum(dict.values())\n",
    "    return total_sum\n",
    "dict1={'a':100,'b':200,'c':300}\n",
    "dict2={'x':25,'y':18,'z':45}\n",
    "print(\"Input1:\",dict1)\n",
    "print(\"output1:\",sum_dict(dict1))\n",
    "print(\"Input2:\",dict2)\n",
    "print(\"Output2:\",sum_dict(dict2))\n"
   ]
  },
  {
   "cell_type": "markdown",
   "id": "3553d050",
   "metadata": {},
   "source": [
    "# You are given a string and your task is to swap cases. In other words, convert all lowercase letters to uppercase letters and vice versa."
   ]
  },
  {
   "cell_type": "code",
   "execution_count": 24,
   "id": "f8945967",
   "metadata": {},
   "outputs": [
    {
     "name": "stdout",
     "output_type": "stream",
     "text": [
      "Enter a string: Biratnagar\n",
      "swappedcase string is: bIRATNAGAR\n"
     ]
    }
   ],
   "source": [
    "string=input(\"Enter a string: \")\n",
    "swapped_str=string.swapcase()\n",
    "print(\"swappedcase string is:\",swapped_str)"
   ]
  },
  {
   "cell_type": "markdown",
   "id": "e702bf85",
   "metadata": {},
   "source": [
    "# Python program to create a class representing a Circle. Include methods to calculate its area and perimeter."
   ]
  },
  {
   "cell_type": "code",
   "execution_count": 35,
   "id": "675699e2",
   "metadata": {},
   "outputs": [
    {
     "name": "stdout",
     "output_type": "stream",
     "text": [
      "Enter the radius of the circle:5\n",
      "Area of Circle is: 78.53981633974483\n",
      "Perimeter of circle is: 31.41592653589793\n"
     ]
    }
   ],
   "source": [
    "import math\n",
    "class Circle():\n",
    "    def __init__(self,r):\n",
    "        self.radius=r\n",
    "    def area(self):\n",
    "        return math.pi*(self.radius**2)\n",
    "    def perimeter(self):\n",
    "        return 2*math.pi*self.radius\n",
    "    \n",
    "r=float(input(\"Enter the radius of the circle:\"))\n",
    "newcircle=Circle(r)\n",
    "print(\"Area of Circle is:\",newcircle.area())\n",
    "print(\"Perimeter of circle is:\",newcircle.perimeter())\n",
    "    \n",
    "    "
   ]
  },
  {
   "cell_type": "markdown",
   "id": "b16f9df9",
   "metadata": {},
   "source": [
    "# Python program to create a person class. Include attributes like name, country and date of birth. Implement a method to determine the person's age"
   ]
  },
  {
   "cell_type": "code",
   "execution_count": 23,
   "id": "af6b2843",
   "metadata": {},
   "outputs": [
    {
     "name": "stdout",
     "output_type": "stream",
     "text": [
      "Enter your name:Omnarayan Yadav\n",
      "Enter your country name:Nepal\n",
      "Enter your date of birth (YYYY-MM-DD): 2001-09-10\n",
      "Name: Omnarayan Yadav\n",
      "Country: Nepal\n",
      "Date of birth: 2001-09-10\n",
      "Age: 22 Years 8 Months 2 Days\n"
     ]
    }
   ],
   "source": [
    "\n",
    "from datetime import date,datetime\n",
    "class Person():\n",
    "    def __init__(self,name,country,date_of_birth):\n",
    "       self.name=name\n",
    "       self.country=country\n",
    "       self.date_of_birth=datetime.strptime(date_of_birth,\"%Y-%m-%d\").date()\n",
    "    \n",
    "    def calc_age(self):\n",
    "        today=date.today()\n",
    "        if (today.month, today.day) < (self.date_of_birth.month, self.date_of_birth.day):\n",
    "            age = today.year - self.date_of_birth.year - 1\n",
    "        else:\n",
    "            age = today.year - self.date_of_birth.year\n",
    "        \n",
    "        # Calculate remaining months and days\n",
    "        if today.month < self.date_of_birth.month or (today.month == self.date_of_birth.month and today.day < self.date_of_birth.day):\n",
    "            months = (12 - self.date_of_birth.month) + today.month - 1\n",
    "        else:\n",
    "            months = today.month - self.date_of_birth.month\n",
    "        \n",
    "        # Calculate remaining days\n",
    "        if today.day < self.date_of_birth.day:\n",
    "            days = (date(today.year, today.month - 1, self.date_of_birth.day) - date(today.year, today.month - 1, today.day)).days\n",
    "        else:\n",
    "            days = today.day - self.date_of_birth.day\n",
    "\n",
    "        return age, months, days\n",
    "    \n",
    "name=input(\"Enter your name:\")\n",
    "country=input(\"Enter your country name:\")\n",
    "date_of_birth=input(\"Enter your date of birth (YYYY-MM-DD): \")\n",
    "\n",
    "person=Person(name,country,date_of_birth)\n",
    "\n",
    "print(\"Name:\",person.name)\n",
    "print(\"Country:\",person.country)\n",
    "print(\"Date of birth:\",person.date_of_birth)\n",
    "age,months,days=person.calc_age()\n",
    "print(\"Age:\",age,\"Years\",months,\"Months\",days,\"Days\")"
   ]
  },
  {
   "cell_type": "markdown",
   "id": "e6a01368",
   "metadata": {},
   "source": [
    "# Define a class Vehicle with attributes make and model, and a method drive() which prints \"Driving the [make] [model]\". Then, create a subclass Car that inherits from Vehicle and overrides the drive() method to print \"Driving the [make] [model] car\""
   ]
  },
  {
   "cell_type": "code",
   "execution_count": 40,
   "id": "44e3fdce",
   "metadata": {},
   "outputs": [
    {
     "name": "stdout",
     "output_type": "stream",
     "text": [
      "Driving the Toyota Fortuner\n",
      "Driving the Mercedes-Benz A-Class Limousine car\n"
     ]
    }
   ],
   "source": [
    "class Vehicle:\n",
    "    def __init__(self,make,model):\n",
    "        self.make=make\n",
    "        self.model=model\n",
    "    def drive(self):\n",
    "        print(f\"Driving the {self.make} {self.model}\")\n",
    "    \n",
    "class Car(Vehicle):\n",
    "    def drive(self):\n",
    "        print(f\"Driving the {self.make} {self.model} car\")\n",
    "                  \n",
    "                  \n",
    "vehicle=Vehicle(\"Toyota\",\"Fortuner\")\n",
    "car=Car(\"Mercedes-Benz\", \"A-Class Limousine\")\n",
    "                  \n",
    "vehicle.drive()\n",
    "car.drive()\n",
    "                  "
   ]
  },
  {
   "cell_type": "markdown",
   "id": "8bad9aba",
   "metadata": {},
   "source": [
    "# Create a class BankAccount with private attributes balance and account_number.Implement methods deposit() and withdraw() to modify the balance. Ensure that the balance cannot be accessed directly from outside the class"
   ]
  },
  {
   "cell_type": "code",
   "execution_count": 3,
   "id": "e27a54e5",
   "metadata": {},
   "outputs": [
    {
     "name": "stdout",
     "output_type": "stream",
     "text": [
      "Would you like to Deposit or Withdraw?\n",
      "Enter d for deposit and w for withdrawal (d/w): d\n",
      "Enter amount to be deposited: 10000\n",
      "Amount Deposited is: Rs 10000.0 \n",
      "Your New balance is: Rs 15000.0\n",
      "Account balance: 15000.0\n",
      "Do you want to perform another transaction? (yes/no): yes\n",
      "Would you like to Deposit or Withdraw?\n",
      "Enter d for deposit and w for withdrawal (d/w): w\n",
      "Enter amount to be withdrawn: 5000\n",
      "Amount Withdrawn is: Rs 5000.0.\n",
      "Your New balance is: Rs 10000.0\n",
      "Account balance: 10000.0\n",
      "Do you want to perform another transaction? (yes/no): no\n",
      "THANK YOU FOR USING OUR SYSTEM.\n"
     ]
    }
   ],
   "source": [
    "class BankAccount:\n",
    "    def __init__(self, account_number, initial_balance=0):\n",
    "        self.__account_number = account_number\n",
    "        self.__balance = initial_balance\n",
    "\n",
    "    def deposit(self, amount):\n",
    "        if amount > 0:\n",
    "            self.__balance += amount\n",
    "            print(f\"Amount Deposited is: Rs {amount} \\nYour New balance is: Rs {self.__balance}\")\n",
    "        else:\n",
    "            print(\"Deposit amount must be positive!!\")\n",
    "\n",
    "    def withdraw(self, amount):\n",
    "        if amount > 0:\n",
    "            if amount <= self.__balance:\n",
    "                self.__balance -= amount\n",
    "                print(f\"Amount Withdrawn is: Rs {amount}.\\nYour New balance is: Rs {self.__balance}\")\n",
    "            else:\n",
    "                print(\"Insufficient balance!!!\")\n",
    "        else:\n",
    "            print(\"Withdrawal amount must be positive!!\")\n",
    "\n",
    "    def get_balance(self):\n",
    "        return self.__balance\n",
    "\n",
    "    def get_account_number(self):\n",
    "        return self.__account_number\n",
    "\n",
    "if __name__ == \"__main__\":\n",
    "    account = BankAccount(\"123456789111519\", 5000)\n",
    "    # what user would like to do:\n",
    "    while True:\n",
    "        action = input(\"Would you like to Deposit or Withdraw?\\nEnter d for deposit and w for withdrawal (d/w): \").strip().lower()\n",
    "        if action == 'd':\n",
    "            amount = float(input(\"Enter amount to be deposited: \"))\n",
    "            account.deposit(amount)\n",
    "        elif action == 'w':\n",
    "            amount = float(input(\"Enter amount to be withdrawn: \"))\n",
    "            account.withdraw(amount)\n",
    "        else:\n",
    "            print(\"Invalid action. Please enter 'd' to deposit or 'w' to withdraw.\")\n",
    "\n",
    "        # Display the current balance:\n",
    "        print(f\"Account balance: {account.get_balance()}\")\n",
    "\n",
    "        # Ask if the user wants to perform another transaction\n",
    "        continue_action = input(\"Do you want to perform another transaction? (yes/no): \").strip().lower()\n",
    "        if continue_action != 'yes':\n",
    "            print(\"THANK YOU FOR USING OUR SYSTEM.\")\n",
    "            break\n"
   ]
  },
  {
   "cell_type": "markdown",
   "id": "b8774709",
   "metadata": {},
   "source": [
    "# Implement a class Shape with a method area() which returns 0. Then, create subclasses Rectangle and Circle. Overload the area() method in both subclasses to calculate and return the area of a rectangle and a circle respectively.\n"
   ]
  },
  {
   "cell_type": "code",
   "execution_count": 2,
   "id": "60e29db9",
   "metadata": {},
   "outputs": [
    {
     "name": "stdout",
     "output_type": "stream",
     "text": [
      "Enter width of the rectangle: 5\n",
      "Enter height of the rectangle: 8\n",
      "Area of rectangle: 40.0\n",
      "Enter radius of the circle: 5\n",
      "Area of circle: 78.53981633974483\n"
     ]
    }
   ],
   "source": [
    "import math\n",
    "\n",
    "class Shape:\n",
    "    def area(self):\n",
    "        return 0\n",
    "\n",
    "class Rectangle(Shape):\n",
    "    def __init__(self, width, height):\n",
    "        self.width = width\n",
    "        self.height = height\n",
    "    def area(self):\n",
    "        return self.width * self.height\n",
    "\n",
    "class Circle(Shape):\n",
    "    def __init__(self, radius):\n",
    "        self.radius = radius\n",
    "    def area(self):\n",
    "        return math.pi * self.radius ** 2\n",
    "\n",
    "# Taking input from user for rectangle\n",
    "width = float(input(\"Enter width of the rectangle: \"))\n",
    "height = float(input(\"Enter height of the rectangle: \"))\n",
    "rectangle = Rectangle(width, height)\n",
    "print(\"Area of rectangle:\", rectangle.area())\n",
    "\n",
    "# Taking input from user for circle\n",
    "radius = float(input(\"Enter radius of the circle: \"))\n",
    "circle = Circle(radius)\n",
    "print(\"Area of circle:\", circle.area())\n"
   ]
  },
  {
   "cell_type": "markdown",
   "id": "fb61f52e",
   "metadata": {},
   "source": [
    "# Define classes Engine, Wheel, and Car. Engine and Wheel classes have attributes type and methods start() and stop(). The Car class should have instances of Engine and Wheel classes as attributes. Implement a method start_car() in the Car class which starts the engine and prints \"Car started\"."
   ]
  },
  {
   "cell_type": "code",
   "execution_count": 4,
   "id": "34f2c4db",
   "metadata": {},
   "outputs": [
    {
     "name": "stdout",
     "output_type": "stream",
     "text": [
      "Enter Engine type: Petrol Engine\n",
      "Enter Wheel type: Metal\n",
      "Petrol Engine Engine started.\n",
      "Car started.\n"
     ]
    }
   ],
   "source": [
    "class Engine:\n",
    "    def __init__(self, type):\n",
    "        self.type = type\n",
    "\n",
    "    def start(self):\n",
    "        print(f\"{self.type} Engine started.\")\n",
    "\n",
    "    def stop(self):\n",
    "        print(f\"{self.type} Engine stopped.\")\n",
    "\n",
    "\n",
    "class Wheel:\n",
    "    def __init__(self, type):\n",
    "        self.type = type\n",
    "\n",
    "    def start(self):\n",
    "        print(f\"{self.type} wheel started.\")\n",
    "\n",
    "    def stop(self):\n",
    "        print(f\"{self.type} wheel stopped.\")\n",
    "\n",
    "\n",
    "class Car:\n",
    "    def __init__(self, engine_type, wheel_type):\n",
    "        self.engine = Engine(engine_type)\n",
    "        self.wheel = Wheel(wheel_type)\n",
    "\n",
    "    def start_car(self):\n",
    "        self.engine.start()\n",
    "        print(\"Car started.\")\n",
    "\n",
    "engine_type = input(\"Enter Engine type: \")\n",
    "wheel_type = input(\"Enter Wheel type: \")\n",
    "my_car = Car(engine_type, wheel_type)\n",
    "my_car.start_car()\n"
   ]
  },
  {
   "cell_type": "markdown",
   "id": "5a47f4ad",
   "metadata": {},
   "source": [
    "# 20(a) WAP to represent the following graphs using a dictionary"
   ]
  },
  {
   "cell_type": "code",
   "execution_count": 5,
   "id": "a45bc0c9",
   "metadata": {},
   "outputs": [
    {
     "name": "stdout",
     "output_type": "stream",
     "text": [
      "A -> B, C\n",
      "B -> D, E\n",
      "C -> F\n",
      "D -> G\n",
      "E -> H\n"
     ]
    }
   ],
   "source": [
    "graph = {\n",
    "    'A': ['B', 'C'],\n",
    "    'B': ['D', 'E'],\n",
    "    'C': ['F'],\n",
    "    'D': ['G'],\n",
    "    'E': ['H']\n",
    "}\n",
    "\n",
    "# Print the graph\n",
    "for node, neighbors in graph.items():\n",
    "    print(f\"{node} -> {', '.join(neighbors)}\")\n"
   ]
  },
  {
   "cell_type": "markdown",
   "id": "604bbdae",
   "metadata": {},
   "source": [
    "# 20(b)"
   ]
  },
  {
   "cell_type": "code",
   "execution_count": 5,
   "id": "601cb196",
   "metadata": {},
   "outputs": [
    {
     "name": "stdout",
     "output_type": "stream",
     "text": [
      "B -> I (22), R (25), Bi (30)\n",
      "I -> Dh (20), Bi (11)\n",
      "Bi -> K (10)\n",
      "R -> K (25), U (46)\n",
      "K -> U (12)\n",
      "U -> D (6)\n"
     ]
    }
   ],
   "source": [
    "#representing graph in dictionary:\n",
    "\n",
    "#B=Biratnagar,I=Ithari,Bi=BiratChowk,R=Rangeli,Dh=Dharan,K=kanepokhari,U=Urlabari,D=Damak\n",
    "\n",
    "graph={\n",
    "    'B': {'I': 22, 'R': 25,'Bi':30},\n",
    "    'I': {'Dh': 20, 'Bi': 11},\n",
    "    'Bi': {'K': 10},\n",
    "    'R': {'K': 25, 'U': 46},\n",
    "    'K':{'U':12},\n",
    "    'U':{'D':6}\n",
    "}\n",
    "\n",
    "# Print the graph\n",
    "for node, neighbors in graph.items():\n",
    "    print(f\"{node} -> {', '.join(f'{neighbor} ({weight})' for neighbor,weight in neighbors.items())}\")\n",
    "\n",
    "\n"
   ]
  },
  {
   "cell_type": "code",
   "execution_count": null,
   "id": "e45a32ec",
   "metadata": {},
   "outputs": [],
   "source": []
  }
 ],
 "metadata": {
  "kernelspec": {
   "display_name": "Python 3 (ipykernel)",
   "language": "python",
   "name": "python3"
  },
  "language_info": {
   "codemirror_mode": {
    "name": "ipython",
    "version": 3
   },
   "file_extension": ".py",
   "mimetype": "text/x-python",
   "name": "python",
   "nbconvert_exporter": "python",
   "pygments_lexer": "ipython3",
   "version": "3.11.5"
  }
 },
 "nbformat": 4,
 "nbformat_minor": 5
}
